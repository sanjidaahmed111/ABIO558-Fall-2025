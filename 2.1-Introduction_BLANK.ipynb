{
 "cells": [
  {
   "cell_type": "markdown",
   "id": "ee7002d8",
   "metadata": {},
   "source": [
    "# 2.1 - Introduction to Jupyter and Python\n",
    "\n",
    "\n",
    "### Learning goals for today\n",
    "1. Create, edit, and run Jupyter notebooks (10 minutes)\n",
    "2. Assign and inspect variables (20 minutes)\n",
    "3. Inspect, understand, and convert Python data types (10 minutes)\n",
    "4. Create, index and manipulate containers (10 minutes)\n",
    "   \n",
    "---\n",
    "### How to use this notebook during class\n",
    "- Follow along as we go\n",
    "- Use your **Cards** to indicate where you're at:\n",
    "    - A **🟩Green card** means you are caught up with Max and **ready to help your classmates**\n",
    "    - A **🟥Red card** means you are stuck and need help\n",
    "- <span style='color:red;'>EXERCISE</span> — work on this problem by yourself, or try with a partner if you get stuck\n",
    "---\n",
    "### Resources and more practice:\n",
    "For this and many future exercises, you can find more guidance at the excellent **software carpentry** website\n",
    "- https://swcarpentry.github.io/python-novice-gapminder/01-run-quit.html\n",
    "- https://swcarpentry.github.io/python-novice-gapminder/02-variables.html\n",
    "- https://swcarpentry.github.io/python-novice-gapminder/03-types-conversion.html"
   ]
  },
  {
   "cell_type": "markdown",
   "id": "171d8494-f581-40ea-88df-8de8f16f17c8",
   "metadata": {},
   "source": [
    "## 1) Getting started with Jupyter Notebooks\n",
    "- A notebook is a mix of **Markdown** (text) and **code** cells.\n",
    "- Click a cell to select it. Press **Shift+Enter** (or the ▶️ button) to **run** it.\n",
    "- To add a new cell: use the **+** button or press **B** (below) or **A** (above).\n",
    "- To delete a cell: use the **🗑️** button on the right, or double-tap **D**\n",
    "- To switch a cell to Markdown: press **M**. To code: press **Y**.\n",
    "- Save your work frequently (**Ctrl/Cmd+S**).\n"
   ]
  },
  {
   "cell_type": "markdown",
   "id": "d30670e2-f0fc-47b1-92b3-e78a0e22678f",
   "metadata": {},
   "source": [
    "### Edit vs. Command mode\n",
    "When a cell is **selected**, it has a blue bar to the left.\n",
    "\n",
    "A **selected** cell can be in one of two modes:\n",
    "1. **Edit** mode: the cell is bounded by a blue box, and has a cursor in it. You can edit text in the cell like in any text editor\n",
    "2. **Command** mode: you can run, move, and delete cells, but you can't type directly into the cell.\n",
    "\n",
    "#### To switch from **Edit** to **Command**: \n",
    "- press **Esc** to switch to **Command** without running the cell\n",
    "- or press **Shift+Enter** to run the cell and select the next cell in **Command** mode\n",
    "\n",
    "#### To switch from **Command** to **Edit**: \n",
    "- Press **Enter** or **double click the cell**"
   ]
  },
  {
   "cell_type": "markdown",
   "id": "26972e04",
   "metadata": {},
   "source": [
    "### <span style='color:red;'>EXERCISE 1</span>: Add a Markdown note (2 minutes)\n",
    "1. Insert a new cell *below* this one (press **B**).\n",
    "2. Switch it to **Markdown** (press **M**).\n",
    "3. Type a short note with a header, e.g. `# My first note`.\n",
    "4. Run it (Shift+Enter).\n"
   ]
  },
  {
   "cell_type": "code",
   "execution_count": null,
   "id": "c8c33b33-f426-4f7a-83ec-e10a324f9b22",
   "metadata": {},
   "outputs": [],
   "source": []
  },
  {
   "cell_type": "code",
   "execution_count": 1,
   "id": "8b3a5466-6210-43b9-b76e-68165e225664",
   "metadata": {},
   "outputs": [
    {
     "name": "stdout",
     "output_type": "stream",
     "text": [
      "Hello\n"
     ]
    }
   ],
   "source": [
    "print('Hello')"
   ]
  },
  {
   "cell_type": "markdown",
   "id": "936c7452-fcab-492f-af0e-8962a5c50797",
   "metadata": {},
   "source": []
  },
  {
   "cell_type": "markdown",
   "id": "51095b5c-630d-45df-91aa-76b565f3999b",
   "metadata": {},
   "source": [
    "# My first note."
   ]
  },
  {
   "cell_type": "markdown",
   "id": "434551a2",
   "metadata": {},
   "source": [
    "Now let's run some code"
   ]
  },
  {
   "cell_type": "code",
   "execution_count": 23,
   "id": "757b4dde",
   "metadata": {},
   "outputs": [
    {
     "data": {
      "text/plain": [
       "'/Users/sanjidaahmed/Downloads'"
      ]
     },
     "execution_count": 23,
     "metadata": {},
     "output_type": "execute_result"
    }
   ],
   "source": [
    "pwd"
   ]
  },
  {
   "cell_type": "markdown",
   "id": "cfda87c7-7e10-43de-acc6-1dce31a7da1a",
   "metadata": {},
   "source": [
    "The above is **Python code**. You can also run some **bash** commands from within Jupyter. Sometimes this just works, as in:\n",
    "\n",
    "`pwd` (print working directory)\n",
    "\n",
    "but you may have to have a `!` prefix to tell Jupyter that what comes next is a bash command, as in:\n",
    "\n",
    "`!pwd`"
   ]
  },
  {
   "cell_type": "markdown",
   "id": "51cd1691-8188-4195-a358-6864e8bd808c",
   "metadata": {},
   "source": [
    "### Comments\n",
    "Comments are bits of code that do not run, and are just for human eyes. Use comments to:\n",
    "- Describe what your code is doing, or why\n",
    "    - **Your most important code reader is your future self. Be kind to yourself and comment your code!**\n",
    "- Add instructions to users for how to use the code\n",
    "- (When developing code) temporarily hide/show bits of code that you are playing with and don't want to delete, or give yourself reminders or ToDo tasks\n",
    "  \n",
    "#### In python a comment is indicated by the # symbol\n",
    "#### You can toggle between commented/uncommented for a whole line by pressing **Cmd+/** (Mac) or **Ctrl+/** (Windows)\n",
    "\n",
    "\n",
    "Let's try writing some comments, and toggling between commented / uncommented..."
   ]
  },
  {
   "cell_type": "code",
   "execution_count": null,
   "id": "a08dc505-d9dd-4dd9-b612-bc8d547d8b3c",
   "metadata": {},
   "outputs": [],
   "source": [
    "# print('apples and pay attention')"
   ]
  },
  {
   "cell_type": "markdown",
   "id": "fb6b8916-b093-4b93-924e-73eec67cd9d6",
   "metadata": {
    "jp-MarkdownHeadingCollapsed": true
   },
   "source": [
    "### Summary: Interacting with notebooks\n",
    "- Use **markdown** to show nicely formatted text\n",
    "- Use **code** to ... code\n",
    "- Use **comments** to make your code more readable\n"
   ]
  },
  {
   "cell_type": "markdown",
   "id": "4ae96a29",
   "metadata": {},
   "source": [
    "## 2) Variables — assigning and inspecting\n",
    "ℹ️ A **variable** stores a value. In Python, you create a variable the first time you assign to it.\n",
    "\n",
    "**Rules of thumb**\n",
    "- Use meaningful names: `temperature_c`, `subject_count`.\n",
    "    - NOT: `x`, `variable`, `number`\n",
    "    - **Be kind to your future self!**\n",
    "- Names use letters, numbers, and underscores (and **cannot** start with a number).\n",
    "- Python is case-sensitive: `Mass` ≠ `mass`.\n",
    "\n",
    "Let's define some variables, and then display them with print()\n"
   ]
  },
  {
   "cell_type": "code",
   "execution_count": 5,
   "id": "6d0d433f",
   "metadata": {},
   "outputs": [
    {
     "name": "stdout",
     "output_type": "stream",
     "text": [
      "22.5\n",
      "100\n",
      "w(1118)\n",
      "True\n"
     ]
    }
   ],
   "source": [
    "temperature_c = 22.5\n",
    "n_samples = 100\n",
    "genotype = 'w(1118)'\n",
    "is_control = True\n",
    "\n",
    "print(temperature_c)\n",
    "print(n_samples)\n",
    "print(genotype)\n",
    "print(is_control)"
   ]
  },
  {
   "cell_type": "markdown",
   "id": "0b4a07d0-cd32-4588-bde2-d1648c440a35",
   "metadata": {},
   "source": [
    "#### Sounds obvious but: You must **assign** a variable before you **call** it\n",
    "\n",
    "Let's see what happens when you do it in the wrong order..."
   ]
  },
  {
   "cell_type": "code",
   "execution_count": 6,
   "id": "6ba18624-aee1-4daf-ae03-71312d727f7a",
   "metadata": {},
   "outputs": [
    {
     "ename": "NameError",
     "evalue": "name 'strain' is not defined",
     "output_type": "error",
     "traceback": [
      "\u001b[31m---------------------------------------------------------------------------\u001b[39m",
      "\u001b[31mNameError\u001b[39m                                 Traceback (most recent call last)",
      "\u001b[36mCell\u001b[39m\u001b[36m \u001b[39m\u001b[32mIn[6]\u001b[39m\u001b[32m, line 1\u001b[39m\n\u001b[32m----> \u001b[39m\u001b[32m1\u001b[39m \u001b[38;5;28mprint\u001b[39m(\u001b[43mstrain\u001b[49m)\n\u001b[32m      2\u001b[39m strain = \u001b[33m'\u001b[39m\u001b[33mC57\u001b[39m\u001b[33m'\u001b[39m\n",
      "\u001b[31mNameError\u001b[39m: name 'strain' is not defined"
     ]
    }
   ],
   "source": [
    "print(strain)\n",
    "strain = 'C57'\n"
   ]
  },
  {
   "cell_type": "markdown",
   "id": "2803a899-14cc-441c-9496-ee7a0efed457",
   "metadata": {},
   "source": [
    "### <span style='color:red;'>EXERCISE 2</span>: Fix this bug! (2 min)\n",
    "Change the code in the cell above 👆 to fix the bug and print the strain"
   ]
  },
  {
   "cell_type": "markdown",
   "id": "e9e2b6c5-d734-40c6-ba2f-c4bee072be4a",
   "metadata": {},
   "source": [
    "### Useful aside: String formatting\n",
    "There are several methods to insert variables into a string. Let's practice one method called an **f-string**"
   ]
  },
  {
   "cell_type": "code",
   "execution_count": 11,
   "id": "4f718c7a-e860-490a-96ef-1878c8321fc3",
   "metadata": {},
   "outputs": [
    {
     "name": "stdout",
     "output_type": "stream",
     "text": [
      "My name is Sanji, I am 21 years old\n"
     ]
    }
   ],
   "source": [
    "name = 'Sanji'\n",
    "age = '21'\n",
    "\n",
    "message = f'My name is {name}, I am {age} years old'\n",
    "print(message)"
   ]
  },
  {
   "cell_type": "markdown",
   "id": "f0940a65-9616-4665-8ce2-d80039834b34",
   "metadata": {},
   "source": [
    "*Important note*: Re-assigning a variable updates its value"
   ]
  },
  {
   "cell_type": "code",
   "execution_count": 12,
   "id": "6617402d-019f-45b0-bb74-c5c062e0d9bd",
   "metadata": {},
   "outputs": [
    {
     "name": "stdout",
     "output_type": "stream",
     "text": [
      "10\n"
     ]
    }
   ],
   "source": [
    "n_samples = 10 \n",
    "print (n_samples)"
   ]
  },
  {
   "cell_type": "code",
   "execution_count": 14,
   "id": "d9a331be",
   "metadata": {},
   "outputs": [
    {
     "name": "stdout",
     "output_type": "stream",
     "text": [
      "updated n_samples = 15\n"
     ]
    }
   ],
   "source": [
    "n_samples = n_samples + 5 \n",
    "print(f'updated n_samples = {n_samples}')"
   ]
  },
  {
   "cell_type": "markdown",
   "id": "0ae0444f-f8a7-4794-a598-5110e7d19672",
   "metadata": {},
   "source": [
    "### Simple math\n",
    "Python has basic math operations built in. \n",
    "`+` `-` `*` `/`\n",
    "\n",
    "`**` - exponential\n",
    "\n",
    "(**Next class** we will talk about extending the functionality of Python using libraries)"
   ]
  },
  {
   "cell_type": "code",
   "execution_count": 15,
   "id": "bcc3a213-2228-42a5-a22f-dfccc5875b07",
   "metadata": {},
   "outputs": [
    {
     "name": "stdout",
     "output_type": "stream",
     "text": [
      "35\n"
     ]
    }
   ],
   "source": [
    "weeks = 5\n",
    "days = weeks * 7\n",
    "print (days)"
   ]
  },
  {
   "cell_type": "code",
   "execution_count": 16,
   "id": "c542779c-04ce-4862-baab-6efb253874f0",
   "metadata": {},
   "outputs": [
    {
     "name": "stdout",
     "output_type": "stream",
     "text": [
      "225\n"
     ]
    }
   ],
   "source": [
    "width = 15 \n",
    "area = width ** 2\n",
    "print (area)"
   ]
  },
  {
   "cell_type": "markdown",
   "id": "87e329c8-a63c-457e-a5fd-f8b915a01add",
   "metadata": {},
   "source": [
    "### <span style='color:red;'>EXERCISE 3</span>: What does // mean? (4 min)\n",
    "There is an `//` operator - play around with it and figure out what it does"
   ]
  },
  {
   "cell_type": "code",
   "execution_count": 17,
   "id": "b7804d13-b770-4aed-a531-b50efa4ac774",
   "metadata": {},
   "outputs": [
    {
     "name": "stdout",
     "output_type": "stream",
     "text": [
      "2\n"
     ]
    }
   ],
   "source": [
    "hours = 48\n",
    "days= hours // 24\n",
    "print (days)\n"
   ]
  },
  {
   "cell_type": "markdown",
   "id": "a076127c",
   "metadata": {},
   "source": [
    "### Inspecting what is in memory\n",
    "You can ask Python/IPython what's currently defined using the magic word %whos\n"
   ]
  },
  {
   "cell_type": "code",
   "execution_count": 19,
   "id": "5326f08f",
   "metadata": {},
   "outputs": [
    {
     "name": "stdout",
     "output_type": "stream",
     "text": [
      "Variable        Type     Data/Info\n",
      "----------------------------------\n",
      "age             str      21\n",
      "area            int      225\n",
      "days            int      2\n",
      "genotype        str      w(1118)\n",
      "hours           int      48\n",
      "is_control      bool     True\n",
      "message         str      My name is Sanji, I am 21 years old\n",
      "n_samples       int      15\n",
      "name            str      Sanji\n",
      "temperature_c   float    22.5\n",
      "weeks           int      5\n",
      "width           int      15\n"
     ]
    }
   ],
   "source": [
    "%whos"
   ]
  },
  {
   "cell_type": "markdown",
   "id": "14ed56cb",
   "metadata": {},
   "source": [
    "### <span style='color:red;'>EXERCISE 4</span>: Variables practice (6 min)\n",
    "1. Create variables for a sample: `mass_g`, `volume_L`. Assign them numbers.\n",
    "2. Compute density in g/L and store it in `density_g_per_L`.\n",
    "3. Print a sentence summarizing the result with the units.\n"
   ]
  },
  {
   "cell_type": "code",
   "execution_count": 20,
   "id": "9143e558-6654-483c-a0a8-a39e209f74b4",
   "metadata": {},
   "outputs": [
    {
     "name": "stdout",
     "output_type": "stream",
     "text": [
      "Density = 0.5 g/L\n"
     ]
    }
   ],
   "source": [
    "mass_g = 30\n",
    "volume_L = 60\n",
    "density_g_per_L = mass_g / volume_L\n",
    "print(f'Density = {density_g_per_L} g/L')"
   ]
  },
  {
   "cell_type": "markdown",
   "id": "5f0acc88",
   "metadata": {},
   "source": [
    "## 3) Data types — inspecting, understanding, converting\n",
    "Common built-in scalar types we'll use today:\n",
    "- `int` (integers), `float` (decimal numbers), `bool` (True/False), and `str` (text).\n",
    "\n",
    "Python variables are *dynamically* typed. This means that when you define a variable Python is smart and figures out what the data type should be. This is convenient but can be dangerous.\n",
    "\n",
    "Use `type(obj)` to check the type.\n"
   ]
  },
  {
   "cell_type": "code",
   "execution_count": null,
   "id": "b052839b",
   "metadata": {},
   "outputs": [],
   "source": []
  },
  {
   "cell_type": "code",
   "execution_count": null,
   "id": "c45b91a9-6e48-4f9a-9da2-92fbed0a4156",
   "metadata": {},
   "outputs": [],
   "source": []
  },
  {
   "cell_type": "code",
   "execution_count": null,
   "id": "b87ee419-56ee-4453-9065-5c07bdd4ac85",
   "metadata": {},
   "outputs": [],
   "source": []
  },
  {
   "cell_type": "code",
   "execution_count": null,
   "id": "bd095354-6d02-47bb-8059-042b49cf57e7",
   "metadata": {},
   "outputs": [],
   "source": []
  },
  {
   "cell_type": "markdown",
   "id": "4e3b432d",
   "metadata": {},
   "source": [
    "### Converting between types\n",
    "You can convert between some data types using constructor functions: `int()`, `float()`, `str()`, `bool()`.\n",
    "- Not every conversion is possible (e.g., `int('3.14')` raises an error).\n",
    "- `bool(x)` is `False` for 0, 0.0, empty strings `''`, and empty containers; otherwise `True`.\n"
   ]
  },
  {
   "cell_type": "code",
   "execution_count": null,
   "id": "afc91964",
   "metadata": {},
   "outputs": [],
   "source": []
  },
  {
   "cell_type": "code",
   "execution_count": null,
   "id": "b7244d65-3ff2-4fc8-a791-8b041bc2f655",
   "metadata": {},
   "outputs": [],
   "source": []
  },
  {
   "cell_type": "code",
   "execution_count": null,
   "id": "6b07105b-9731-4a80-9a1e-9007644a115e",
   "metadata": {},
   "outputs": [],
   "source": []
  },
  {
   "cell_type": "markdown",
   "id": "b1b83450",
   "metadata": {},
   "source": [
    "### Booleans and comparisons\n",
    "Comparison operators: `==`, `!=`, `<`, `<=`, `>`, `>=`.\n",
    "Logical operators: `and`, `or`, `not`.\n"
   ]
  },
  {
   "cell_type": "code",
   "execution_count": null,
   "id": "7efb7f7e",
   "metadata": {},
   "outputs": [],
   "source": []
  },
  {
   "cell_type": "code",
   "execution_count": null,
   "id": "1228a4a1-0a4a-457e-8f82-8af3f45b5ef8",
   "metadata": {},
   "outputs": [],
   "source": []
  },
  {
   "cell_type": "code",
   "execution_count": null,
   "id": "745f3418",
   "metadata": {},
   "outputs": [],
   "source": []
  },
  {
   "cell_type": "markdown",
   "id": "f727990f",
   "metadata": {},
   "source": [
    "### Strings: indexing, slicing, and methods\n",
    "Strings are sequences of characters.\n",
    "- Indexing: `s[0]` (first char); Slicing: `s[0:4]` (chars 0–3).\n",
    "- Length: `len(s)`.\n",
    "\n",
    "Let's practice indexing into a string. You will be using indexing A LOT for other data types (like lists or arrays of numbers) later in the class. and the syntax is similar\n"
   ]
  },
  {
   "cell_type": "code",
   "execution_count": null,
   "id": "52615535",
   "metadata": {},
   "outputs": [],
   "source": []
  },
  {
   "cell_type": "code",
   "execution_count": null,
   "id": "c31ecda7-4570-4b62-a3b5-7e4b0c6d0f05",
   "metadata": {},
   "outputs": [],
   "source": []
  },
  {
   "cell_type": "code",
   "execution_count": null,
   "id": "d83056b8-fb2d-409f-85bb-46638cc76c10",
   "metadata": {},
   "outputs": [],
   "source": []
  },
  {
   "cell_type": "code",
   "execution_count": null,
   "id": "e0ac03b0-3221-4ff8-888e-95531504445e",
   "metadata": {},
   "outputs": [],
   "source": []
  },
  {
   "cell_type": "markdown",
   "id": "a907e124",
   "metadata": {},
   "source": [
    "### <span style='color:red;'>EXERCISE 5</span>: Types & conversions (5 min)\n",
    "Given the strings below, compute the force `F = m * a` and print a friendly summary.\n",
    "\n",
    "```python\n",
    "mass_str = '12.5'      # grams\n",
    "accel_str = '9.81'     # m/s^2\n",
    "```\n",
    "\n",
    "Steps:\n",
    "1. Convert both to floating-point numbers.\n",
    "2. Convert mass to **kilograms** first (1 g = 0.001 kg).\n",
    "3. Compute force in Newtons using F = m * a. A newton is 1 kg * m/s^2\n",
    "4. Print a sentence displaying the computed force in N\n",
    "\n"
   ]
  },
  {
   "cell_type": "code",
   "execution_count": null,
   "id": "7e64edea-cf1b-464e-aeee-7fd0ba268d47",
   "metadata": {},
   "outputs": [],
   "source": []
  },
  {
   "cell_type": "markdown",
   "id": "98a6cb67-9f89-4968-abfa-38772484855a",
   "metadata": {},
   "source": [
    "## 4. Containers\n",
    "\n",
    "A **container** is a data structure that stores a collection of objects\n",
    "\n",
    "There are a few examples of containers, including:\n",
    "- **string**: A container full of characters like \"hello\"\n",
    "- **list**: A container full of whatever, separated by commas, like: [1, 2, 3.5, 50]\n",
    "- **tuple**: a lot like a list but it is _immutable_ "
   ]
  },
  {
   "cell_type": "markdown",
   "id": "ae7ff9e2-f360-4dd7-a7cb-89491c3128fd",
   "metadata": {},
   "source": [
    "What can you do with a container? Here are two things:\n",
    "1. Index to retrieve or change values\n",
    "2. Math!\n",
    "\n",
    "Let's make a list and see what both of these look like:"
   ]
  },
  {
   "cell_type": "code",
   "execution_count": null,
   "id": "983ab050-9b79-422a-81b5-b87f3b92505d",
   "metadata": {},
   "outputs": [],
   "source": []
  },
  {
   "cell_type": "code",
   "execution_count": null,
   "id": "620fbe4f-55dd-499b-bc16-4474089cd1a4",
   "metadata": {},
   "outputs": [],
   "source": []
  },
  {
   "cell_type": "code",
   "execution_count": null,
   "id": "9f00c8ce-144a-4187-ba10-3aeb3e5b40e9",
   "metadata": {},
   "outputs": [],
   "source": []
  },
  {
   "cell_type": "code",
   "execution_count": null,
   "id": "6bd77066-3fdb-4496-aa3e-928f21a6ca9e",
   "metadata": {},
   "outputs": [],
   "source": []
  },
  {
   "cell_type": "markdown",
   "id": "b669e559-ce96-43b6-9e52-02464cefde9c",
   "metadata": {},
   "source": [
    "Python has some built in math functions, too..."
   ]
  },
  {
   "cell_type": "code",
   "execution_count": null,
   "id": "8284e393-3b4d-4f8f-b287-6062c59d223c",
   "metadata": {},
   "outputs": [],
   "source": []
  },
  {
   "cell_type": "markdown",
   "id": "6aa68de2-f4c6-42db-80e9-7fb7826d64a7",
   "metadata": {},
   "source": [
    "### <span style='color:red;'>EXERCISE 6</span>: LIST MATH (5 min)\n",
    "Make a list of numbers and then write some code to compute the average of the values"
   ]
  },
  {
   "cell_type": "code",
   "execution_count": null,
   "id": "ed014770-25ae-4e18-952c-e7fcddd1d03a",
   "metadata": {},
   "outputs": [],
   "source": []
  },
  {
   "cell_type": "markdown",
   "id": "cd8818eb",
   "metadata": {},
   "source": [
    "## Running, restarting, and saving\n",
    "- If things get messy, you can **Restart Kernel** (clears variables) and then **Run All**.\n",
    "- You can also **Restart Kernel and Clear Outputs of All Cells** (under the **Kernel** file menu) to reset the notebook entirely.\n",
    "- Save this notebook and consider exporting as HTML or PDF for your records (File → Export).\n"
   ]
  },
  {
   "cell_type": "code",
   "execution_count": null,
   "id": "bc7564ed-3164-408c-8a4a-8c6307aaac05",
   "metadata": {},
   "outputs": [],
   "source": []
  }
 ],
 "metadata": {
  "kernelspec": {
   "display_name": "Python 3 (ipykernel)",
   "language": "python",
   "name": "python3"
  },
  "language_info": {
   "codemirror_mode": {
    "name": "ipython",
    "version": 3
   },
   "file_extension": ".py",
   "mimetype": "text/x-python",
   "name": "python",
   "nbconvert_exporter": "python",
   "pygments_lexer": "ipython3",
   "version": "3.13.5"
  }
 },
 "nbformat": 4,
 "nbformat_minor": 5
}
